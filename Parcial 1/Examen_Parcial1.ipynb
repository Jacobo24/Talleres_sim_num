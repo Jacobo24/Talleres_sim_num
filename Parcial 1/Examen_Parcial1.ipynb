{
 "cells": [
  {
   "cell_type": "markdown",
   "metadata": {},
   "source": [
    "## Lagrange"
   ]
  },
  {
   "cell_type": "code",
   "execution_count": null,
   "metadata": {},
   "outputs": [],
   "source": [
    "def lagrange_basis(x, x_data_l, k):\n",
    "    \"\"\" Calcula la base de Lagrange L_k(x). \"\"\"\n",
    "    basis = 1\n",
    "    for i in range(len(x_data_l)):\n",
    "        if i != k:\n",
    "            basis *= (x - x_data_l[i]) / (x_data_l[k] - x_data_l[i])\n",
    "    return basis\n",
    "\n",
    "def lagrange_interpolation(x_data_l, y_data_l, x):\n",
    "    \"\"\" Calcula el polinomio de interpolación de Lagrange en x. \"\"\"\n",
    "    n = len(x_data_l)\n",
    "    result = 0\n",
    "    for k in range(n):\n",
    "        result += y_data_l[k] * lagrange_basis(x, x_data_l, k)\n",
    "    return result\n",
    "\n",
    "# Cargar los datos\n",
    "data = np.loadtxt(\"Datos_Taller_2.txt\")\n",
    "x_data, y_data = data[:, 0], data[:, 1]\n",
    "\n",
    "# Puntos para la evaluación del polinomio\n",
    "x_vals_l = np.linspace(0, 6, 100)\n",
    "y_vals_l = [lagrange_interpolation(x_data, y_data, x) for x in x_vals_l]\n",
    "\n",
    "# Graficar\n",
    "plt.scatter(x_data, y_data, color='red', label='Datos experimentales')\n",
    "plt.plot(x_vals_l, y_vals_l, label='Polinomio de interpolación de Lagrange', color='blue')\n",
    "plt.xlabel('x')\n",
    "plt.ylabel('y')\n",
    "plt.legend()\n",
    "plt.title('Interpolación de Lagrange')\n",
    "plt.grid()\n",
    "plt.show()"
   ]
  }
 ],
 "metadata": {
  "kernelspec": {
   "display_name": "base",
   "language": "python",
   "name": "python3"
  },
  "language_info": {
   "name": "python",
   "version": "3.9.13"
  }
 },
 "nbformat": 4,
 "nbformat_minor": 2
}
